{
 "cells": [
  {
   "cell_type": "code",
   "execution_count": null,
   "id": "3c684611-c3a4-4fa8-a172-2afbca2ffc09",
   "metadata": {},
   "outputs": [],
   "source": [
    "import qiskit.qasm3\n",
    "\n",
    "qasm = \"\"\"\n",
    "OPENQASM 3.0;\n",
    "include \"stdgates.inc\";\n",
    "gate rzx(p0) _gate_q_0, _gate_q_1 {\n",
    "  h _gate_q_1;\n",
    "  cx _gate_q_0, _gate_q_1;\n",
    "  rz(p0) _gate_q_1;\n",
    "  cx _gate_q_0, _gate_q_1;\n",
    "  h _gate_q_1;\n",
    "}\n",
    "gate ecr _gate_q_0, _gate_q_1 {\n",
    "  rzx(pi/4) _gate_q_0, _gate_q_1;\n",
    "  x _gate_q_0;\n",
    "  rzx(-pi/4) _gate_q_0, _gate_q_1;\n",
    "}\n",
    "bit[4] c;\n",
    "rz(pi/2) $0;\n",
    "sx $0;\n",
    "rz(pi/2) $0;\n",
    "rz(pi/2) $1;\n",
    "sx $1;\n",
    "rz(pi/2) $1;\n",
    "rz(-pi) $2;\n",
    "sx $2;\n",
    "rz(pi/2) $3;\n",
    "ecr $3, $2;\n",
    "rz(-pi/2) $2;\n",
    "sx $2;\n",
    "rz(pi/2) $2;\n",
    "c[0] = measure $0;\n",
    "c[1] = measure $1;\n",
    "c[2] = measure $2;\n",
    "c[3] = measure $3;\n",
    "\n",
    "\"\"\"\n",
    "circuit = qiskit.qasm3.loads(qasm)"
   ]
  }
 ],
 "metadata": {
  "kernelspec": {
   "display_name": "Python 3 [QGSS]",
   "language": "python",
   "name": "python3"
  },
  "language_info": {
   "codemirror_mode": {
    "name": "ipython",
    "version": 3
   },
   "file_extension": ".py",
   "mimetype": "text/x-python",
   "name": "python",
   "nbconvert_exporter": "python",
   "pygments_lexer": "ipython3",
   "version": "3.11.9"
  }
 },
 "nbformat": 4,
 "nbformat_minor": 5
}
